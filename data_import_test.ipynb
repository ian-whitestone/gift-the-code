{
 "cells": [
  {
   "cell_type": "code",
   "execution_count": 1,
   "metadata": {
    "collapsed": true
   },
   "outputs": [],
   "source": [
    "import xlrd\n",
    "import xlsxwriter\n",
    "import os\n",
    "import data_import as di\n",
    "import pandas as pd"
   ]
  },
  {
   "cell_type": "code",
   "execution_count": 2,
   "metadata": {
    "collapsed": false
   },
   "outputs": [],
   "source": [
    "data=di.main()"
   ]
  },
  {
   "cell_type": "code",
   "execution_count": 5,
   "metadata": {
    "collapsed": false
   },
   "outputs": [],
   "source": [
    "headers=['date', 'trans_type', 'route_desc', 'stop_type','source_type','driver', 'donor_id', 'arrive', 'depart', 'bread', 'baked', 'dairy', 'produce', 'protein', 'prepared', 'bev_juice', 'bev_other', 'snack', 'non_perish', 'non_food', 'quality', 'zero_lbs', 'postcode']\n",
    "df=pd.DataFrame(data, columns=headers)"
   ]
  },
  {
   "cell_type": "code",
   "execution_count": 6,
   "metadata": {
    "collapsed": false
   },
   "outputs": [
    {
     "name": "stdout",
     "output_type": "stream",
     "text": [
      "        date trans_type route_desc stop_type source_type             driver  \\\n",
      "0 2010-09-03  SH Direct  Route 3 W  Delivery   Scheduled  Mr. Nicholas Hart   \n",
      "1 2010-09-03  SH Direct  Route 3 W  Delivery   Scheduled  Mr. Nicholas Hart   \n",
      "2 2010-09-03  SH Direct  Route 3 W  Delivery   Scheduled  Mr. Nicholas Hart   \n",
      "3 2010-09-03  SH Direct  Route 3 W  Delivery   Scheduled  Mr. Nicholas Hart   \n",
      "4 2010-09-03  SH Direct  Route 3 W    Pickup   Scheduled  Mr. Nicholas Hart   \n",
      "\n",
      "  donor_id    arrive    depart  bread    ...     protein  prepared  bev_juice  \\\n",
      "0    26522  08:41:00  08:59:00     90    ...         100       105          0   \n",
      "1    13604  09:35:00  10:00:00      5    ...          70         0          0   \n",
      "2    39019  09:35:00  10:00:00     30    ...          25        45          0   \n",
      "3    27745  11:02:00  11:25:00     50    ...           0        80          0   \n",
      "4    35533  09:15:00  09:28:00      0    ...           0         0          0   \n",
      "\n",
      "   bev_other  snack  non_perish  non_food  quality  zero_lbs  postcode  \n",
      "0         80      0          80       160        0         0   M6B 3T4  \n",
      "1          0      0           0         0        0         0   M6M 4L8  \n",
      "2        250      0         100       520        0         0   M6M 4L8  \n",
      "3        600      0         260       750        0         0   M9V 3M8  \n",
      "4          0      0           0         0        0         1            \n",
      "\n",
      "[5 rows x 23 columns]\n"
     ]
    }
   ],
   "source": [
    "print(df.head())"
   ]
  },
  {
   "cell_type": "code",
   "execution_count": 9,
   "metadata": {
    "collapsed": false
   },
   "outputs": [
    {
     "data": {
      "text/plain": [
       "755"
      ]
     },
     "execution_count": 9,
     "metadata": {},
     "output_type": "execute_result"
    }
   ],
   "source": [
    "len(df['postcode'].unique())"
   ]
  },
  {
   "cell_type": "code",
   "execution_count": null,
   "metadata": {
    "collapsed": true
   },
   "outputs": [],
   "source": []
  }
 ],
 "metadata": {
  "kernelspec": {
   "display_name": "Python 3",
   "language": "python",
   "name": "python3"
  },
  "language_info": {
   "codemirror_mode": {
    "name": "ipython",
    "version": 3
   },
   "file_extension": ".py",
   "mimetype": "text/x-python",
   "name": "python",
   "nbconvert_exporter": "python",
   "pygments_lexer": "ipython3",
   "version": "3.5.2"
  }
 },
 "nbformat": 4,
 "nbformat_minor": 0
}
