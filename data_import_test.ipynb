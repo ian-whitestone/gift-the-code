{
 "cells": [
  {
   "cell_type": "code",
   "execution_count": 1,
   "metadata": {
    "collapsed": true
   },
   "outputs": [],
   "source": [
    "import xlrd\n",
    "import xlsxwriter\n",
    "import os"
   ]
  },
  {
   "cell_type": "code",
   "execution_count": 2,
   "metadata": {
    "collapsed": true
   },
   "outputs": [],
   "source": [
    "src_files = [f for f in os.listdir('data') if f[-1] in 'Xx']"
   ]
  },
  {
   "cell_type": "code",
   "execution_count": 3,
   "metadata": {
    "collapsed": false
   },
   "outputs": [
    {
     "data": {
      "text/plain": [
       "['data_1.xlsx', 'data_2.xlsx', 'data_3.xlsx']"
      ]
     },
     "execution_count": 3,
     "metadata": {},
     "output_type": "execute_result"
    }
   ],
   "source": [
    "src_files"
   ]
  },
  {
   "cell_type": "code",
   "execution_count": 10,
   "metadata": {
    "collapsed": false
   },
   "outputs": [],
   "source": [
    "data =[]\n",
    "for src in src_files[0]:  \n",
    "    str_input = open(os.path.join('data', src), 'rb').read()\n",
    "    wb = xlrd.open_workbook(file_contents=str_input)\n",
    "    sheet = wb.sheets()[0]\n",
    "    for row in range(sheet.nrows):\n",
    "        values = []\n",
    "        for col in range(sheet.ncols):\n",
    "            values.append(sheet.cell(row, col).value)\n",
    "        data.append(values)"
   ]
  },
  {
   "cell_type": "code",
   "execution_count": 18,
   "metadata": {
    "collapsed": false
   },
   "outputs": [],
   "source": [
    "ints=[0,1,2,3,4,5,7,8,9,10,11,12,13,14,15,16,17,18,19,20,21,22]\n",
    "\n",
    "data2=[tuple([d[i] for i in ints]) for d in data]"
   ]
  },
  {
   "cell_type": "code",
   "execution_count": 22,
   "metadata": {
    "collapsed": false
   },
   "outputs": [
    {
     "data": {
      "text/plain": [
       "(41153.0,\n",
       " 'SH Direct',\n",
       " 'Route 1 Sa',\n",
       " 'Delivery | Scheduled',\n",
       " 'Mr. Santiago Holguin',\n",
       " '     33003',\n",
       " '10:05',\n",
       " '10:25',\n",
       " 100.0,\n",
       " 0.0,\n",
       " 600.0,\n",
       " 300.0,\n",
       " 0.0,\n",
       " 100.0,\n",
       " 0.0,\n",
       " 100.0,\n",
       " 0.0,\n",
       " 100.0,\n",
       " 0.0,\n",
       " 0.0,\n",
       " 0.0,\n",
       " 'M3C 2C3')"
      ]
     },
     "execution_count": 22,
     "metadata": {},
     "output_type": "execute_result"
    }
   ],
   "source": [
    "data2[1]"
   ]
  },
  {
   "cell_type": "code",
   "execution_count": 40,
   "metadata": {
    "collapsed": false
   },
   "outputs": [],
   "source": [
    "data3=[]\n",
    "for data in data2[1:]:\n",
    "    tup=()\n",
    "    for i,d in enumerate(data):\n",
    "        if i==3:\n",
    "            ss=d.split('|')\n",
    "            if len(ss)>1:\n",
    "                tup+=(ss[0].strip(),ss[1].strip())\n",
    "            else:\n",
    "                tup+=(ss[0].strip(),None)\n",
    "        elif i in [6,7]:\n",
    "            \n",
    "        else:\n",
    "            if isinstance(d,str):\n",
    "                tup+=(d.strip(),)\n",
    "            else:\n",
    "                tup+=(d,)\n",
    "    data3.append(tup)"
   ]
  },
  {
   "cell_type": "code",
   "execution_count": 42,
   "metadata": {
    "collapsed": false
   },
   "outputs": [
    {
     "data": {
      "text/plain": [
       "(41153.0,\n",
       " 'SH Direct',\n",
       " 'Route 1 Sa',\n",
       " 'Delivery',\n",
       " 'Scheduled',\n",
       " 'Mr. Santiago Holguin',\n",
       " '19201',\n",
       " '10:40',\n",
       " '11:00',\n",
       " 40.0,\n",
       " 0.0,\n",
       " 120.0,\n",
       " 250.0,\n",
       " 200.0,\n",
       " 0.0,\n",
       " 0.0,\n",
       " 0.0,\n",
       " 0.0,\n",
       " 40.0,\n",
       " 0.0,\n",
       " 0.0,\n",
       " 0.0,\n",
       " 'M1K 1M2')"
      ]
     },
     "execution_count": 42,
     "metadata": {},
     "output_type": "execute_result"
    }
   ],
   "source": [
    "data3[1]"
   ]
  },
  {
   "cell_type": "code",
   "execution_count": 30,
   "metadata": {
    "collapsed": false
   },
   "outputs": [
    {
     "data": {
      "text/plain": [
       "(1, 2)"
      ]
     },
     "execution_count": 30,
     "metadata": {},
     "output_type": "execute_result"
    }
   ],
   "source": [
    "tup"
   ]
  },
  {
   "cell_type": "code",
   "execution_count": 37,
   "metadata": {
    "collapsed": false
   },
   "outputs": [
    {
     "data": {
      "text/plain": [
       "'data_3.xlsx'"
      ]
     },
     "execution_count": 37,
     "metadata": {},
     "output_type": "execute_result"
    }
   ],
   "source": [
    "src"
   ]
  },
  {
   "cell_type": "code",
   "execution_count": null,
   "metadata": {
    "collapsed": true
   },
   "outputs": [],
   "source": []
  }
 ],
 "metadata": {
  "kernelspec": {
   "display_name": "Python 3",
   "language": "python",
   "name": "python3"
  },
  "language_info": {
   "codemirror_mode": {
    "name": "ipython",
    "version": 3
   },
   "file_extension": ".py",
   "mimetype": "text/x-python",
   "name": "python",
   "nbconvert_exporter": "python",
   "pygments_lexer": "ipython3",
   "version": "3.5.2"
  }
 },
 "nbformat": 4,
 "nbformat_minor": 0
}
