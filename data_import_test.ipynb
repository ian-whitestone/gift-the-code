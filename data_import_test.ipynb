{
 "cells": [
  {
   "cell_type": "code",
   "execution_count": 2,
   "metadata": {
    "collapsed": true
   },
   "outputs": [],
   "source": [
    "import xlrd\n",
    "import xlsxwriter\n",
    "import os\n",
    "import data_import as di"
   ]
  },
  {
   "cell_type": "code",
   "execution_count": 3,
   "metadata": {
    "collapsed": true
   },
   "outputs": [],
   "source": [
    "data=di.main()"
   ]
  },
  {
   "cell_type": "code",
   "execution_count": 4,
   "metadata": {
    "collapsed": false
   },
   "outputs": [
    {
     "data": {
      "text/plain": [
       "21500"
      ]
     },
     "execution_count": 4,
     "metadata": {},
     "output_type": "execute_result"
    }
   ],
   "source": [
    "len(data)"
   ]
  },
  {
   "cell_type": "code",
   "execution_count": 5,
   "metadata": {
    "collapsed": false
   },
   "outputs": [
    {
     "data": {
      "text/plain": [
       "(datetime.datetime(2010, 9, 3, 0, 0),\n",
       " 'SH Direct',\n",
       " 'Route 3 W',\n",
       " 'Delivery',\n",
       " 'Scheduled',\n",
       " 'Mr. Nicholas Hart',\n",
       " '26522',\n",
       " datetime.time(8, 41),\n",
       " datetime.time(8, 59),\n",
       " 90.0,\n",
       " 0.0,\n",
       " 0.0,\n",
       " 0.0,\n",
       " 100.0,\n",
       " 105.0,\n",
       " 0.0,\n",
       " 80.0,\n",
       " 0.0,\n",
       " 80.0,\n",
       " 160.0,\n",
       " 0.0,\n",
       " 0.0,\n",
       " 'M6B 3T4')"
      ]
     },
     "execution_count": 5,
     "metadata": {},
     "output_type": "execute_result"
    }
   ],
   "source": [
    "data[0]"
   ]
  },
  {
   "cell_type": "code",
   "execution_count": null,
   "metadata": {
    "collapsed": true
   },
   "outputs": [],
   "source": []
  }
 ],
 "metadata": {
  "kernelspec": {
   "display_name": "Python 3",
   "language": "python",
   "name": "python3"
  },
  "language_info": {
   "codemirror_mode": {
    "name": "ipython",
    "version": 3
   },
   "file_extension": ".py",
   "mimetype": "text/x-python",
   "name": "python",
   "nbconvert_exporter": "python",
   "pygments_lexer": "ipython3",
   "version": "3.5.2"
  }
 },
 "nbformat": 4,
 "nbformat_minor": 0
}
